{
 "cells": [
  {
   "cell_type": "code",
   "execution_count": 1,
   "metadata": {},
   "outputs": [],
   "source": [
    "import scipy as sp, numpy as np, pandas as pd"
   ]
  },
  {
   "cell_type": "markdown",
   "metadata": {},
   "source": [
    "## Discrete space"
   ]
  },
  {
   "cell_type": "code",
   "execution_count": 2,
   "metadata": {},
   "outputs": [
    {
     "data": {
      "text/html": [
       "<div>\n",
       "<style scoped>\n",
       "    .dataframe tbody tr th:only-of-type {\n",
       "        vertical-align: middle;\n",
       "    }\n",
       "\n",
       "    .dataframe tbody tr th {\n",
       "        vertical-align: top;\n",
       "    }\n",
       "\n",
       "    .dataframe thead th {\n",
       "        text-align: right;\n",
       "    }\n",
       "</style>\n",
       "<table border=\"1\" class=\"dataframe\">\n",
       "  <thead>\n",
       "    <tr style=\"text-align: right;\">\n",
       "      <th></th>\n",
       "      <th>A</th>\n",
       "      <th>B</th>\n",
       "    </tr>\n",
       "  </thead>\n",
       "  <tbody>\n",
       "    <tr>\n",
       "      <th>Clicked</th>\n",
       "      <td>6</td>\n",
       "      <td>17</td>\n",
       "    </tr>\n",
       "    <tr>\n",
       "      <th>Not Clicked</th>\n",
       "      <td>9</td>\n",
       "      <td>3</td>\n",
       "    </tr>\n",
       "  </tbody>\n",
       "</table>\n",
       "</div>"
      ],
      "text/plain": [
       "             A   B\n",
       "Clicked      6  17\n",
       "Not Clicked  9   3"
      ]
     },
     "execution_count": 2,
     "metadata": {},
     "output_type": "execute_result"
    }
   ],
   "source": [
    "np.random.seed(42)\n",
    "x = np.random.binomial(n=1, p=0.3, size=15) #n=trials, p=prob, size=number of samples\n",
    "y = np.random.binomial(1,.7, 20)\n",
    "\n",
    "\n",
    "clicks = np.array([ [np.sum(x), len(x)-np.sum(x)], [np.sum(y),len(y)-np.sum(y)] ]).T\n",
    "pd.DataFrame(clicks, index=['Clicked', 'Not Clicked'], columns=['A','B'])"
   ]
  },
  {
   "cell_type": "code",
   "execution_count": 3,
   "metadata": {},
   "outputs": [
    {
     "name": "stdout",
     "output_type": "stream",
     "text": [
      "[0 1 1 0 0 0 0 1 0 1 0 1 1 0 0]\n"
     ]
    }
   ],
   "source": [
    "print(x)"
   ]
  },
  {
   "cell_type": "code",
   "execution_count": 4,
   "metadata": {},
   "outputs": [
    {
     "data": {
      "text/html": [
       "<div>\n",
       "<style scoped>\n",
       "    .dataframe tbody tr th:only-of-type {\n",
       "        vertical-align: middle;\n",
       "    }\n",
       "\n",
       "    .dataframe tbody tr th {\n",
       "        vertical-align: top;\n",
       "    }\n",
       "\n",
       "    .dataframe thead th {\n",
       "        text-align: right;\n",
       "    }\n",
       "</style>\n",
       "<table border=\"1\" class=\"dataframe\">\n",
       "  <thead>\n",
       "    <tr style=\"text-align: right;\">\n",
       "      <th></th>\n",
       "      <th>A</th>\n",
       "      <th>B</th>\n",
       "    </tr>\n",
       "  </thead>\n",
       "  <tbody>\n",
       "    <tr>\n",
       "      <th>No click</th>\n",
       "      <td>6</td>\n",
       "      <td>17</td>\n",
       "    </tr>\n",
       "    <tr>\n",
       "      <th>click</th>\n",
       "      <td>9</td>\n",
       "      <td>3</td>\n",
       "    </tr>\n",
       "  </tbody>\n",
       "</table>\n",
       "</div>"
      ],
      "text/plain": [
       "          A   B\n",
       "No click  6  17\n",
       "click     9   3"
      ]
     },
     "execution_count": 4,
     "metadata": {},
     "output_type": "execute_result"
    }
   ],
   "source": [
    "# OR: \n",
    "_, [a,b] = np.unique(x, return_counts=True)\n",
    "_, [c,d] = np.unique(y, return_counts=True)\n",
    "pd.DataFrame(data=[[b,d], [a,c]], # weird swapping required\n",
    "                 index=[\"No click\", \"click\"], \n",
    "                 columns=[\"A\", \"B\"])"
   ]
  },
  {
   "cell_type": "markdown",
   "metadata": {},
   "source": [
    "https://sphweb.bumc.bu.edu/otlt/MPH-Modules/BS/BS704_HypothesisTesting-ChiSquare/BS704_HypothesisTesting-ChiSquare_print.html"
   ]
  },
  {
   "cell_type": "markdown",
   "metadata": {},
   "source": [
    "### Calculating P-value, ciritcal Value by \"hand\"\n",
    "Example of a simple array -> see if the values fit a distribution"
   ]
  },
  {
   "cell_type": "code",
   "execution_count": 9,
   "metadata": {},
   "outputs": [
    {
     "name": "stdout",
     "output_type": "stream",
     "text": [
      "Power_divergenceResult(statistic=2.0, pvalue=0.8491450360846096)\n",
      "Chi²:  2.0\n",
      "11.070497693516351\n",
      "P-value:  0.8491450360846096\n"
     ]
    }
   ],
   "source": [
    "from scipy.stats import chisquare\n",
    "print(chisquare([16, 18, 16, 14, 12, 12]))\n",
    "\n",
    "\n",
    "exp = np.sum([16, 18, 16, 14, 12, 12]) / len([16, 18, 16, 14, 12, 12]) # expected => uniform unless stated differently\n",
    "obs = np.array([16, 18, 16, 14, 12, 12])\n",
    "\n",
    "print('Chi²: ', np.sum((obs-exp)**2 / exp))\n",
    "\n",
    "# ppf p\n",
    "critical_chi2 = sp.stats.chi2.ppf(1-0.05, len(obs)-1) # (conf-int, dof)\n",
    "print('Critical Chi² value: ', critical_chi2)\n",
    "print('P-value: ', 1 - sp.stats.chi2.cdf(2, len(obs)-1)) # p-value == 1-CDF( chi2, dof)"
   ]
  },
  {
   "cell_type": "markdown",
   "metadata": {},
   "source": [
    "#### Chi square test (pearson)\n",
    "\n",
    "$h_0$: Independence of variables\n",
    "\n",
    "$h_A$: No independence of variables"
   ]
  },
  {
   "cell_type": "code",
   "execution_count": 13,
   "metadata": {
    "scrolled": true
   },
   "outputs": [
    {
     "data": {
      "text/plain": [
       "(5.835975241545894,\n",
       " 0.015701703602172736,\n",
       " 1,\n",
       " array([[ 9.85714286, 13.14285714],\n",
       "        [ 5.14285714,  6.85714286]]))"
      ]
     },
     "execution_count": 13,
     "metadata": {},
     "output_type": "execute_result"
    }
   ],
   "source": [
    "chi2, p_val, dof, expected = sp.stats.contingency.chi2_contingency(clicks) #, correction=False)\n",
    "chi2, p_val, dof, expected"
   ]
  },
  {
   "cell_type": "code",
   "execution_count": 14,
   "metadata": {},
   "outputs": [
    {
     "name": "stdout",
     "output_type": "stream",
     "text": [
      "9.857142857142858 13.142857142857142\n",
      "5.142857142857143 6.857142857142857\n"
     ]
    }
   ],
   "source": [
    "# proof for expected (row*col / total):\n",
    "## x11\n",
    "print(np.sum(clicks[:,0]) * np.sum(clicks[0,:]) / np.sum(clicks), np.sum(clicks[:,1]) * np.sum(clicks[0,:]) / np.sum(clicks))\n",
    "## x21\n",
    "print(np.sum(clicks[:,0]) * np.sum(clicks[1,:]) / np.sum(clicks), np.sum(clicks[:,1]) * np.sum(clicks[1,:]) / np.sum(clicks))\n",
    "## ..."
   ]
  },
  {
   "cell_type": "code",
   "execution_count": 15,
   "metadata": {},
   "outputs": [
    {
     "data": {
      "text/plain": [
       "7.70327543166964"
      ]
     },
     "execution_count": 15,
     "metadata": {},
     "output_type": "execute_result"
    }
   ],
   "source": [
    "# this is equivalent to above WHEN CORRECTION=False, otherwise 5.8359 !!!! (rounded:)\n",
    "np.sum((clicks - np.array([[9.857,13.1429],[5.143, 6.857]]))**2 / np.array([[9.857,13.1429],[5.143, 6.857]]))\n",
    "# == np.sum((clicks-expected)**2 / expected)"
   ]
  },
  {
   "cell_type": "markdown",
   "metadata": {},
   "source": [
    "#### Fisher's exact test\n",
    "\n",
    "Always look at cell matrix[0,0] as reference"
   ]
  },
  {
   "cell_type": "code",
   "execution_count": 16,
   "metadata": {},
   "outputs": [
    {
     "data": {
      "text/html": [
       "<div>\n",
       "<style scoped>\n",
       "    .dataframe tbody tr th:only-of-type {\n",
       "        vertical-align: middle;\n",
       "    }\n",
       "\n",
       "    .dataframe tbody tr th {\n",
       "        vertical-align: top;\n",
       "    }\n",
       "\n",
       "    .dataframe thead th {\n",
       "        text-align: right;\n",
       "    }\n",
       "</style>\n",
       "<table border=\"1\" class=\"dataframe\">\n",
       "  <thead>\n",
       "    <tr style=\"text-align: right;\">\n",
       "      <th></th>\n",
       "      <th>A</th>\n",
       "      <th>B</th>\n",
       "    </tr>\n",
       "  </thead>\n",
       "  <tbody>\n",
       "    <tr>\n",
       "      <th>Clicked</th>\n",
       "      <td>6</td>\n",
       "      <td>17</td>\n",
       "    </tr>\n",
       "    <tr>\n",
       "      <th>Not Clicked</th>\n",
       "      <td>9</td>\n",
       "      <td>3</td>\n",
       "    </tr>\n",
       "  </tbody>\n",
       "</table>\n",
       "</div>"
      ],
      "text/plain": [
       "             A   B\n",
       "Clicked      6  17\n",
       "Not Clicked  9   3"
      ]
     },
     "execution_count": 16,
     "metadata": {},
     "output_type": "execute_result"
    }
   ],
   "source": [
    "pd.DataFrame(clicks, index=['Clicked', 'Not Clicked'], columns=['A','B'])"
   ]
  },
  {
   "cell_type": "code",
   "execution_count": 17,
   "metadata": {},
   "outputs": [
    {
     "name": "stdout",
     "output_type": "stream",
     "text": [
      "odds_ratio:  0.11764705882352941 \n",
      "p-value:  0.010724879495736006\n"
     ]
    }
   ],
   "source": [
    "odds_ratio, p_value = sp.stats.fisher_exact(clicks, alternative='two-sided')\n",
    "\n",
    "print('odds_ratio: ', odds_ratio, '\\np-value: ', p_value)"
   ]
  },
  {
   "cell_type": "code",
   "execution_count": 18,
   "metadata": {},
   "outputs": [
    {
     "data": {
      "text/plain": [
       "0.11764705882352941"
      ]
     },
     "execution_count": 18,
     "metadata": {},
     "output_type": "execute_result"
    }
   ],
   "source": [
    "# odds ratio > 1?\n",
    "#       true, false\n",
    "# true  6     17\n",
    "# false 9      3\n",
    "## odds ratio: [ (true positives & true negatives) / (false postitives & false negatives) ]\n",
    "(6*3) / (9*17)"
   ]
  },
  {
   "cell_type": "code",
   "execution_count": 19,
   "metadata": {},
   "outputs": [
    {
     "data": {
      "text/plain": [
       "(0.11764705882352941, 0.9992829723658095)"
      ]
     },
     "execution_count": 19,
     "metadata": {},
     "output_type": "execute_result"
    }
   ],
   "source": [
    "# hA greater = right tail = proportion of clicks in \"A\" is greater than the second (very unlikely given the table above)\n",
    "sp.stats.fisher_exact(clicks, alternative='greater')"
   ]
  },
  {
   "cell_type": "code",
   "execution_count": 20,
   "metadata": {
    "scrolled": true
   },
   "outputs": [
    {
     "data": {
      "text/plain": [
       "(0.11764705882352941, 0.007554690396737117)"
      ]
     },
     "execution_count": 20,
     "metadata": {},
     "output_type": "execute_result"
    }
   ],
   "source": [
    "# hA greater = right tail = proportion of clicks in \"A\" is smaller than the second (very likely given the table above)\n",
    "sp.stats.fisher_exact(clicks, alternative='less')"
   ]
  },
  {
   "cell_type": "markdown",
   "metadata": {},
   "source": [
    "## Continuous space"
   ]
  },
  {
   "cell_type": "markdown",
   "metadata": {},
   "source": [
    "#### For demonstration - Z-score examples\n",
    "PPF -> percent point function == inverse of the CDF.\n",
    "\n",
    "e.g. we want to know the (critical) Z value for 95%:"
   ]
  },
  {
   "cell_type": "code",
   "execution_count": 10,
   "metadata": {},
   "outputs": [
    {
     "data": {
      "text/plain": [
       "1.64"
      ]
     },
     "execution_count": 10,
     "metadata": {},
     "output_type": "execute_result"
    }
   ],
   "source": [
    "np.round(sp.stats.norm.ppf(.95),2)"
   ]
  },
  {
   "cell_type": "code",
   "execution_count": 11,
   "metadata": {},
   "outputs": [
    {
     "data": {
      "text/plain": [
       "1.96"
      ]
     },
     "execution_count": 11,
     "metadata": {},
     "output_type": "execute_result"
    }
   ],
   "source": [
    "np.round(sp.stats.norm.ppf(.975),2)"
   ]
  },
  {
   "cell_type": "markdown",
   "metadata": {},
   "source": [
    "Before proceeding, make sure what parameters are \"known\":\n",
    "\n",
    "Normal Distribution:\n",
    "* known sigma²\n",
    "\n",
    "T Distribution:\n",
    "* unknown sigma²\n",
    "\n",
    "\n",
    "1. Pooled/Weighted Sigma (equal variances)\n",
    "2. Paired (Good to reduce noice, variances are equal, values are heterogenous)\n",
    "3. Welch's Test for UNequal variances"
   ]
  },
  {
   "cell_type": "code",
   "execution_count": 12,
   "metadata": {},
   "outputs": [
    {
     "data": {
      "text/plain": [
       "1.9718962236316089"
      ]
     },
     "execution_count": 12,
     "metadata": {},
     "output_type": "execute_result"
    }
   ],
   "source": [
    "# https://www.statology.org/working-with-the-student-t-distribution-in-r-dt-qt-pt-rt/\n",
    "(1-sp.stats.t.cdf(x=.75, df=23))\n",
    "sp.stats.t.ppf(.975, 200)"
   ]
  },
  {
   "cell_type": "code",
   "execution_count": 21,
   "metadata": {},
   "outputs": [],
   "source": [
    "np.random.seed(42)\n",
    "\n",
    "x = sp.stats.norm(0,1)\n",
    "y = sp.stats.uniform(loc=1,scale=2) # uniform between [1,1+2] -> 1 <= X <= 3\n",
    "\n",
    "xi = x.rvs(10)\n",
    "yi = y.rvs(10)"
   ]
  },
  {
   "cell_type": "code",
   "execution_count": 22,
   "metadata": {},
   "outputs": [
    {
     "data": {
      "text/plain": [
       "(array([ 0.49671415, -0.1382643 ,  0.64768854,  1.52302986, -0.23415337,\n",
       "        -0.23413696,  1.57921282,  0.76743473, -0.46947439,  0.54256004]),\n",
       " array([1.36364993, 1.36680902, 1.60848449, 2.04951286, 1.86389004,\n",
       "        1.58245828, 2.22370579, 1.27898772, 1.5842893 , 1.73272369]))"
      ]
     },
     "execution_count": 22,
     "metadata": {},
     "output_type": "execute_result"
    }
   ],
   "source": [
    "xi, yi"
   ]
  },
  {
   "cell_type": "markdown",
   "metadata": {},
   "source": [
    "two-sided -> 2*left value == left and right tail\n",
    "\n",
    "$h_0$: both means are equal\n",
    "\n",
    "$h_A$: means are different"
   ]
  },
  {
   "cell_type": "code",
   "execution_count": 26,
   "metadata": {},
   "outputs": [
    {
     "data": {
      "text/plain": [
       "Ttest_indResult(statistic=-4.9005554692298725, pvalue=0.00011519076433947554)"
      ]
     },
     "execution_count": 26,
     "metadata": {},
     "output_type": "execute_result"
    }
   ],
   "source": [
    "sp.stats.ttest_ind(xi, yi, equal_var=True, alternative='two-sided')"
   ]
  },
  {
   "cell_type": "code",
   "execution_count": 33,
   "metadata": {},
   "outputs": [
    {
     "data": {
      "text/plain": [
       "0.00011519076433947554"
      ]
     },
     "execution_count": 33,
     "metadata": {},
     "output_type": "execute_result"
    }
   ],
   "source": [
    "sp.stats.t.cdf(-4.9005554692298725, 18)*2"
   ]
  },
  {
   "cell_type": "code",
   "execution_count": 24,
   "metadata": {},
   "outputs": [
    {
     "data": {
      "text/plain": [
       "18"
      ]
     },
     "execution_count": 24,
     "metadata": {},
     "output_type": "execute_result"
    }
   ],
   "source": [
    "df = len(xi)+len(yi)-2\n",
    "df"
   ]
  },
  {
   "cell_type": "markdown",
   "metadata": {},
   "source": [
    "greater -> right tail. by default we get the left tail, so 1-left = right\n",
    "\n",
    "$h_0$: xi mean <= yi group mean\n",
    "\n",
    "$h_A$: xi mean > yi group mean\n",
    "\n",
    "p-value ~ 1: cannot reject $h_0$, makes sense: xi is around zero, while yi is in [1,3] with mean ~ $\\frac{1+3}{2}=2$"
   ]
  },
  {
   "cell_type": "code",
   "execution_count": 25,
   "metadata": {},
   "outputs": [
    {
     "data": {
      "text/plain": [
       "Ttest_indResult(statistic=-4.9005554692298725, pvalue=0.9999424046178302)"
      ]
     },
     "execution_count": 25,
     "metadata": {},
     "output_type": "execute_result"
    }
   ],
   "source": [
    "sp.stats.ttest_ind(xi, yi, equal_var=True, alternative='greater')"
   ]
  },
  {
   "cell_type": "code",
   "execution_count": 30,
   "metadata": {},
   "outputs": [
    {
     "data": {
      "text/plain": [
       "0.9999424046178302"
      ]
     },
     "execution_count": 30,
     "metadata": {},
     "output_type": "execute_result"
    }
   ],
   "source": [
    "1-sp.stats.t.cdf(-4.9005554692298725, 18)"
   ]
  },
  {
   "cell_type": "markdown",
   "metadata": {},
   "source": [
    "less -> interested in left tail only\n",
    "\n",
    "$h_0$: xi mean >= yi group mean\n",
    "\n",
    "$h_A$: xi mean < yi group mean\n",
    "\n",
    "p-value ~ 0: must reject $h_0$, makes sense: xi is around zero, while yi is in [1,3] with mean ~ $\\frac{1+3}{2}=2$, so $h_A$: xi < yi is reasonable!"
   ]
  },
  {
   "cell_type": "code",
   "execution_count": 34,
   "metadata": {},
   "outputs": [
    {
     "data": {
      "text/plain": [
       "Ttest_indResult(statistic=-4.9005554692298725, pvalue=5.759538216973777e-05)"
      ]
     },
     "execution_count": 34,
     "metadata": {},
     "output_type": "execute_result"
    }
   ],
   "source": [
    "sp.stats.ttest_ind(xi, yi, equal_var=True, alternative='less')"
   ]
  },
  {
   "cell_type": "code",
   "execution_count": 35,
   "metadata": {},
   "outputs": [
    {
     "data": {
      "text/plain": [
       "5.759538216973777e-05"
      ]
     },
     "execution_count": 35,
     "metadata": {},
     "output_type": "execute_result"
    }
   ],
   "source": [
    "sp.stats.t.cdf(-4.9005554692298725, 18)"
   ]
  },
  {
   "cell_type": "code",
   "execution_count": 38,
   "metadata": {},
   "outputs": [
    {
     "data": {
      "text/plain": [
       "Ttest_1sampResult(statistic=-2.4140579513473557, pvalue=0.01949435603492952)"
      ]
     },
     "execution_count": 38,
     "metadata": {},
     "output_type": "execute_result"
    }
   ],
   "source": [
    "# test if xi is different to mu=1\n",
    "sp.stats.ttest_1samp(xi, 1, alternative='less') # should be highly significant because:\n",
    "# h0: xi >= 1\n",
    "# hA: xi <  1\n",
    "# We know that xi is centered around 0 !"
   ]
  },
  {
   "cell_type": "markdown",
   "metadata": {},
   "source": [
    "reject $h_0$"
   ]
  },
  {
   "cell_type": "code",
   "execution_count": 51,
   "metadata": {},
   "outputs": [
    {
     "data": {
      "text/plain": [
       "0.05648920036699321"
      ]
     },
     "execution_count": 51,
     "metadata": {},
     "output_type": "execute_result"
    }
   ],
   "source": [
    "s_x = 1\n",
    "s_y = 2\n",
    "\n",
    "z_score = np.mean(xi)-np.mean(yi) / np.sqrt( s_x**2/len(xi) + s_y**2/len(yi) )\n",
    "z_score\n",
    "\n",
    "normal_distr = sp.stats.norm(0,1)\n",
    "\n",
    "2 * normal_distr.cdf(z_score)"
   ]
  }
 ],
 "metadata": {
  "kernelspec": {
   "display_name": "Python 3",
   "language": "python",
   "name": "python3"
  },
  "language_info": {
   "codemirror_mode": {
    "name": "ipython",
    "version": 3
   },
   "file_extension": ".py",
   "mimetype": "text/x-python",
   "name": "python",
   "nbconvert_exporter": "python",
   "pygments_lexer": "ipython3",
   "version": "3.8.3"
  }
 },
 "nbformat": 4,
 "nbformat_minor": 4
}
